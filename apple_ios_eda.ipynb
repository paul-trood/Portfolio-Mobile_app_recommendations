{
 "cells": [
  {
   "cell_type": "code",
   "execution_count": 1,
   "metadata": {},
   "outputs": [],
   "source": [
    "import pandas as pd\n",
    "import numpy as np\n",
    "import seaborn as sns\n",
    "import matplotlib.pyplot as plt\n",
    "%matplotlib inline\n",
    "import matplotlib.style as style\n",
    "#style.use(\"fivethirtyeight\")\n",
    "pd.set_option(\"display.float_format\", lambda x: \"%.5f\" % x)\n",
    "pd.set_option(\"max_columns\", None)"
   ]
  },
  {
   "cell_type": "code",
   "execution_count": 2,
   "metadata": {},
   "outputs": [
    {
     "data": {
      "text/html": [
       "<div>\n",
       "<style scoped>\n",
       "    .dataframe tbody tr th:only-of-type {\n",
       "        vertical-align: middle;\n",
       "    }\n",
       "\n",
       "    .dataframe tbody tr th {\n",
       "        vertical-align: top;\n",
       "    }\n",
       "\n",
       "    .dataframe thead th {\n",
       "        text-align: right;\n",
       "    }\n",
       "</style>\n",
       "<table border=\"1\" class=\"dataframe\">\n",
       "  <thead>\n",
       "    <tr style=\"text-align: right;\">\n",
       "      <th></th>\n",
       "      <th>App_Id</th>\n",
       "      <th>App_Name</th>\n",
       "      <th>AppStore_Url</th>\n",
       "      <th>Primary_Genre</th>\n",
       "      <th>Content_Rating</th>\n",
       "      <th>Size_Bytes</th>\n",
       "      <th>Required_IOS_Version</th>\n",
       "      <th>Released</th>\n",
       "      <th>Updated</th>\n",
       "      <th>Version</th>\n",
       "      <th>Price</th>\n",
       "      <th>Currency</th>\n",
       "      <th>Free</th>\n",
       "      <th>DeveloperId</th>\n",
       "      <th>Developer</th>\n",
       "      <th>Developer_Url</th>\n",
       "      <th>Developer_Website</th>\n",
       "      <th>Average_User_Rating</th>\n",
       "      <th>Reviews</th>\n",
       "      <th>Current_Version_Score</th>\n",
       "      <th>Current_Version_Reviews</th>\n",
       "    </tr>\n",
       "  </thead>\n",
       "  <tbody>\n",
       "    <tr>\n",
       "      <th>0</th>\n",
       "      <td>com.hkbu.arc.apaper</td>\n",
       "      <td>A+ Paper Guide</td>\n",
       "      <td>https://apps.apple.com/us/app/a-paper-guide/id...</td>\n",
       "      <td>Education</td>\n",
       "      <td>4+</td>\n",
       "      <td>21993472.00000</td>\n",
       "      <td>8.0</td>\n",
       "      <td>2017-09-28T03:02:41Z</td>\n",
       "      <td>2018-12-21T21:30:36Z</td>\n",
       "      <td>1.1.2</td>\n",
       "      <td>0.00000</td>\n",
       "      <td>USD</td>\n",
       "      <td>True</td>\n",
       "      <td>1375410542</td>\n",
       "      <td>HKBU ARC</td>\n",
       "      <td>https://apps.apple.com/us/developer/hkbu-arc/i...</td>\n",
       "      <td>NaN</td>\n",
       "      <td>0.00000</td>\n",
       "      <td>0</td>\n",
       "      <td>0.00000</td>\n",
       "      <td>0</td>\n",
       "    </tr>\n",
       "    <tr>\n",
       "      <th>1</th>\n",
       "      <td>com.dmitriev.abooks</td>\n",
       "      <td>A-Books</td>\n",
       "      <td>https://apps.apple.com/us/app/a-books/id103157...</td>\n",
       "      <td>Book</td>\n",
       "      <td>4+</td>\n",
       "      <td>13135872.00000</td>\n",
       "      <td>10.0</td>\n",
       "      <td>2015-08-31T19:31:32Z</td>\n",
       "      <td>2019-07-23T20:31:09Z</td>\n",
       "      <td>1.3</td>\n",
       "      <td>0.00000</td>\n",
       "      <td>USD</td>\n",
       "      <td>True</td>\n",
       "      <td>1031572001</td>\n",
       "      <td>Roman Dmitriev</td>\n",
       "      <td>https://apps.apple.com/us/developer/roman-dmit...</td>\n",
       "      <td>NaN</td>\n",
       "      <td>5.00000</td>\n",
       "      <td>1</td>\n",
       "      <td>5.00000</td>\n",
       "      <td>1</td>\n",
       "    </tr>\n",
       "    <tr>\n",
       "      <th>2</th>\n",
       "      <td>no.terp.abooks</td>\n",
       "      <td>A-books</td>\n",
       "      <td>https://apps.apple.com/us/app/a-books/id145702...</td>\n",
       "      <td>Book</td>\n",
       "      <td>4+</td>\n",
       "      <td>21943296.00000</td>\n",
       "      <td>9.0</td>\n",
       "      <td>2021-04-14T07:00:00Z</td>\n",
       "      <td>2021-05-30T21:08:54Z</td>\n",
       "      <td>1.3.1</td>\n",
       "      <td>0.00000</td>\n",
       "      <td>USD</td>\n",
       "      <td>True</td>\n",
       "      <td>1457024163</td>\n",
       "      <td>Terp AS</td>\n",
       "      <td>https://apps.apple.com/us/developer/terp-as/id...</td>\n",
       "      <td>NaN</td>\n",
       "      <td>0.00000</td>\n",
       "      <td>0</td>\n",
       "      <td>0.00000</td>\n",
       "      <td>0</td>\n",
       "    </tr>\n",
       "    <tr>\n",
       "      <th>3</th>\n",
       "      <td>fr.antoinettefleur.Book1</td>\n",
       "      <td>A-F Book #1</td>\n",
       "      <td>https://apps.apple.com/us/app/a-f-book-1/id500...</td>\n",
       "      <td>Book</td>\n",
       "      <td>4+</td>\n",
       "      <td>81851392.00000</td>\n",
       "      <td>8.0</td>\n",
       "      <td>2012-02-10T03:40:07Z</td>\n",
       "      <td>2019-10-29T12:40:37Z</td>\n",
       "      <td>1.2</td>\n",
       "      <td>2.99000</td>\n",
       "      <td>USD</td>\n",
       "      <td>False</td>\n",
       "      <td>439568839</td>\n",
       "      <td>i-editeur.com</td>\n",
       "      <td>https://apps.apple.com/us/developer/i-editeur-...</td>\n",
       "      <td>NaN</td>\n",
       "      <td>0.00000</td>\n",
       "      <td>0</td>\n",
       "      <td>0.00000</td>\n",
       "      <td>0</td>\n",
       "    </tr>\n",
       "    <tr>\n",
       "      <th>4</th>\n",
       "      <td>com.imonstersoft.azdictionaryios</td>\n",
       "      <td>A-Z Synonyms Dictionary</td>\n",
       "      <td>https://apps.apple.com/us/app/a-z-synonyms-dic...</td>\n",
       "      <td>Reference</td>\n",
       "      <td>4+</td>\n",
       "      <td>64692224.00000</td>\n",
       "      <td>9.0</td>\n",
       "      <td>2020-12-16T08:00:00Z</td>\n",
       "      <td>2020-12-18T21:36:11Z</td>\n",
       "      <td>1.0.1</td>\n",
       "      <td>0.00000</td>\n",
       "      <td>USD</td>\n",
       "      <td>True</td>\n",
       "      <td>656731821</td>\n",
       "      <td>Ngov chiheang</td>\n",
       "      <td>https://apps.apple.com/us/developer/ngov-chihe...</td>\n",
       "      <td>http://imonstersoft.com</td>\n",
       "      <td>0.00000</td>\n",
       "      <td>0</td>\n",
       "      <td>0.00000</td>\n",
       "      <td>0</td>\n",
       "    </tr>\n",
       "    <tr>\n",
       "      <th>...</th>\n",
       "      <td>...</td>\n",
       "      <td>...</td>\n",
       "      <td>...</td>\n",
       "      <td>...</td>\n",
       "      <td>...</td>\n",
       "      <td>...</td>\n",
       "      <td>...</td>\n",
       "      <td>...</td>\n",
       "      <td>...</td>\n",
       "      <td>...</td>\n",
       "      <td>...</td>\n",
       "      <td>...</td>\n",
       "      <td>...</td>\n",
       "      <td>...</td>\n",
       "      <td>...</td>\n",
       "      <td>...</td>\n",
       "      <td>...</td>\n",
       "      <td>...</td>\n",
       "      <td>...</td>\n",
       "      <td>...</td>\n",
       "      <td>...</td>\n",
       "    </tr>\n",
       "    <tr>\n",
       "      <th>1230371</th>\n",
       "      <td>com.ledtech.sadblock</td>\n",
       "      <td>Sесurity АdBlосkеr</td>\n",
       "      <td>https://apps.apple.com/us/app/s%D0%B5%D1%81uri...</td>\n",
       "      <td>Utilities</td>\n",
       "      <td>4+</td>\n",
       "      <td>16666624.00000</td>\n",
       "      <td>13.0</td>\n",
       "      <td>2020-07-07T07:00:00Z</td>\n",
       "      <td>2020-07-10T00:48:50Z</td>\n",
       "      <td>1.0.1</td>\n",
       "      <td>0.00000</td>\n",
       "      <td>USD</td>\n",
       "      <td>True</td>\n",
       "      <td>1522287989</td>\n",
       "      <td>LED-TECHNOLOGIES</td>\n",
       "      <td>https://apps.apple.com/us/developer/led-techno...</td>\n",
       "      <td>NaN</td>\n",
       "      <td>3.91608</td>\n",
       "      <td>143</td>\n",
       "      <td>3.91608</td>\n",
       "      <td>143</td>\n",
       "    </tr>\n",
       "    <tr>\n",
       "      <th>1230372</th>\n",
       "      <td>com.securex.vpn</td>\n",
       "      <td>SесurеХ VРN - Wifi Proxy</td>\n",
       "      <td>https://apps.apple.com/us/app/s%D0%B5%D1%81ur%...</td>\n",
       "      <td>Utilities</td>\n",
       "      <td>4+</td>\n",
       "      <td>39016448.00000</td>\n",
       "      <td>9.0</td>\n",
       "      <td>2019-02-12T10:10:13Z</td>\n",
       "      <td>2020-10-21T23:25:15Z</td>\n",
       "      <td>1.1</td>\n",
       "      <td>0.00000</td>\n",
       "      <td>USD</td>\n",
       "      <td>True</td>\n",
       "      <td>1492288123</td>\n",
       "      <td>Trust VPN Ltd.</td>\n",
       "      <td>https://apps.apple.com/us/developer/trust-vpn-...</td>\n",
       "      <td>https://securexvpn.com/</td>\n",
       "      <td>4.82733</td>\n",
       "      <td>1500</td>\n",
       "      <td>4.82733</td>\n",
       "      <td>1500</td>\n",
       "    </tr>\n",
       "    <tr>\n",
       "      <th>1230373</th>\n",
       "      <td>com.beelab.SoTayXayDung</td>\n",
       "      <td>Sổ tay Xây dựng</td>\n",
       "      <td>https://apps.apple.com/us/app/s%E1%BB%95-tay-x...</td>\n",
       "      <td>Utilities</td>\n",
       "      <td>4+</td>\n",
       "      <td>17223680.00000</td>\n",
       "      <td>9.0</td>\n",
       "      <td>2018-10-17T04:22:41Z</td>\n",
       "      <td>2018-10-17T04:22:41Z</td>\n",
       "      <td>1.0</td>\n",
       "      <td>0.00000</td>\n",
       "      <td>USD</td>\n",
       "      <td>True</td>\n",
       "      <td>1438594214</td>\n",
       "      <td>Luu Minh</td>\n",
       "      <td>https://apps.apple.com/us/developer/luu-minh/i...</td>\n",
       "      <td>http://bee-labs.github.io</td>\n",
       "      <td>4.00000</td>\n",
       "      <td>1</td>\n",
       "      <td>4.00000</td>\n",
       "      <td>1</td>\n",
       "    </tr>\n",
       "    <tr>\n",
       "      <th>1230374</th>\n",
       "      <td>com.icc.sttb</td>\n",
       "      <td>Sổ tay đảng viên Thái Bình</td>\n",
       "      <td>https://apps.apple.com/us/app/s%E1%BB%95-tay-%...</td>\n",
       "      <td>Utilities</td>\n",
       "      <td>4+</td>\n",
       "      <td>56716288.00000</td>\n",
       "      <td>10.0</td>\n",
       "      <td>2021-02-20T08:00:00Z</td>\n",
       "      <td>2021-10-02T22:00:19Z</td>\n",
       "      <td>1.2.5</td>\n",
       "      <td>0.00000</td>\n",
       "      <td>USD</td>\n",
       "      <td>True</td>\n",
       "      <td>1515469508</td>\n",
       "      <td>Thái Bình</td>\n",
       "      <td>https://apps.apple.com/us/developer/th%C3%A1i-...</td>\n",
       "      <td>https://aisoftech.vn</td>\n",
       "      <td>0.00000</td>\n",
       "      <td>0</td>\n",
       "      <td>0.00000</td>\n",
       "      <td>0</td>\n",
       "    </tr>\n",
       "    <tr>\n",
       "      <th>1230375</th>\n",
       "      <td>com.vnptlonganios.sodiemthongminh</td>\n",
       "      <td>Sổ Điểm Thông Minh</td>\n",
       "      <td>https://apps.apple.com/us/app/s%E1%BB%95-%C4%9...</td>\n",
       "      <td>Utilities</td>\n",
       "      <td>4+</td>\n",
       "      <td>85135360.00000</td>\n",
       "      <td>8.0</td>\n",
       "      <td>2018-06-05T07:45:41Z</td>\n",
       "      <td>2019-05-21T22:03:17Z</td>\n",
       "      <td>1.9</td>\n",
       "      <td>0.00000</td>\n",
       "      <td>USD</td>\n",
       "      <td>True</td>\n",
       "      <td>1350355912</td>\n",
       "      <td>Pham Thanh Vo</td>\n",
       "      <td>https://apps.apple.com/us/developer/pham-thanh...</td>\n",
       "      <td>NaN</td>\n",
       "      <td>0.00000</td>\n",
       "      <td>0</td>\n",
       "      <td>0.00000</td>\n",
       "      <td>0</td>\n",
       "    </tr>\n",
       "  </tbody>\n",
       "</table>\n",
       "<p>1230376 rows × 21 columns</p>\n",
       "</div>"
      ],
      "text/plain": [
       "                                    App_Id                    App_Name  \\\n",
       "0                      com.hkbu.arc.apaper              A+ Paper Guide   \n",
       "1                      com.dmitriev.abooks                     A-Books   \n",
       "2                           no.terp.abooks                     A-books   \n",
       "3                 fr.antoinettefleur.Book1                 A-F Book #1   \n",
       "4         com.imonstersoft.azdictionaryios     A-Z Synonyms Dictionary   \n",
       "...                                    ...                         ...   \n",
       "1230371               com.ledtech.sadblock          Sесurity АdBlосkеr   \n",
       "1230372                    com.securex.vpn    SесurеХ VРN - Wifi Proxy   \n",
       "1230373            com.beelab.SoTayXayDung             Sổ tay Xây dựng   \n",
       "1230374                       com.icc.sttb  Sổ tay đảng viên Thái Bình   \n",
       "1230375  com.vnptlonganios.sodiemthongminh          Sổ Điểm Thông Minh   \n",
       "\n",
       "                                              AppStore_Url Primary_Genre  \\\n",
       "0        https://apps.apple.com/us/app/a-paper-guide/id...     Education   \n",
       "1        https://apps.apple.com/us/app/a-books/id103157...          Book   \n",
       "2        https://apps.apple.com/us/app/a-books/id145702...          Book   \n",
       "3        https://apps.apple.com/us/app/a-f-book-1/id500...          Book   \n",
       "4        https://apps.apple.com/us/app/a-z-synonyms-dic...     Reference   \n",
       "...                                                    ...           ...   \n",
       "1230371  https://apps.apple.com/us/app/s%D0%B5%D1%81uri...     Utilities   \n",
       "1230372  https://apps.apple.com/us/app/s%D0%B5%D1%81ur%...     Utilities   \n",
       "1230373  https://apps.apple.com/us/app/s%E1%BB%95-tay-x...     Utilities   \n",
       "1230374  https://apps.apple.com/us/app/s%E1%BB%95-tay-%...     Utilities   \n",
       "1230375  https://apps.apple.com/us/app/s%E1%BB%95-%C4%9...     Utilities   \n",
       "\n",
       "        Content_Rating     Size_Bytes Required_IOS_Version  \\\n",
       "0                   4+ 21993472.00000                  8.0   \n",
       "1                   4+ 13135872.00000                 10.0   \n",
       "2                   4+ 21943296.00000                  9.0   \n",
       "3                   4+ 81851392.00000                  8.0   \n",
       "4                   4+ 64692224.00000                  9.0   \n",
       "...                ...            ...                  ...   \n",
       "1230371             4+ 16666624.00000                 13.0   \n",
       "1230372             4+ 39016448.00000                  9.0   \n",
       "1230373             4+ 17223680.00000                  9.0   \n",
       "1230374             4+ 56716288.00000                 10.0   \n",
       "1230375             4+ 85135360.00000                  8.0   \n",
       "\n",
       "                     Released               Updated Version   Price Currency  \\\n",
       "0        2017-09-28T03:02:41Z  2018-12-21T21:30:36Z   1.1.2 0.00000      USD   \n",
       "1        2015-08-31T19:31:32Z  2019-07-23T20:31:09Z     1.3 0.00000      USD   \n",
       "2        2021-04-14T07:00:00Z  2021-05-30T21:08:54Z   1.3.1 0.00000      USD   \n",
       "3        2012-02-10T03:40:07Z  2019-10-29T12:40:37Z     1.2 2.99000      USD   \n",
       "4        2020-12-16T08:00:00Z  2020-12-18T21:36:11Z   1.0.1 0.00000      USD   \n",
       "...                       ...                   ...     ...     ...      ...   \n",
       "1230371  2020-07-07T07:00:00Z  2020-07-10T00:48:50Z   1.0.1 0.00000      USD   \n",
       "1230372  2019-02-12T10:10:13Z  2020-10-21T23:25:15Z     1.1 0.00000      USD   \n",
       "1230373  2018-10-17T04:22:41Z  2018-10-17T04:22:41Z     1.0 0.00000      USD   \n",
       "1230374  2021-02-20T08:00:00Z  2021-10-02T22:00:19Z   1.2.5 0.00000      USD   \n",
       "1230375  2018-06-05T07:45:41Z  2019-05-21T22:03:17Z     1.9 0.00000      USD   \n",
       "\n",
       "          Free  DeveloperId         Developer  \\\n",
       "0         True   1375410542          HKBU ARC   \n",
       "1         True   1031572001    Roman Dmitriev   \n",
       "2         True   1457024163           Terp AS   \n",
       "3        False    439568839     i-editeur.com   \n",
       "4         True    656731821     Ngov chiheang   \n",
       "...        ...          ...               ...   \n",
       "1230371   True   1522287989  LED-TECHNOLOGIES   \n",
       "1230372   True   1492288123    Trust VPN Ltd.   \n",
       "1230373   True   1438594214          Luu Minh   \n",
       "1230374   True   1515469508         Thái Bình   \n",
       "1230375   True   1350355912     Pham Thanh Vo   \n",
       "\n",
       "                                             Developer_Url  \\\n",
       "0        https://apps.apple.com/us/developer/hkbu-arc/i...   \n",
       "1        https://apps.apple.com/us/developer/roman-dmit...   \n",
       "2        https://apps.apple.com/us/developer/terp-as/id...   \n",
       "3        https://apps.apple.com/us/developer/i-editeur-...   \n",
       "4        https://apps.apple.com/us/developer/ngov-chihe...   \n",
       "...                                                    ...   \n",
       "1230371  https://apps.apple.com/us/developer/led-techno...   \n",
       "1230372  https://apps.apple.com/us/developer/trust-vpn-...   \n",
       "1230373  https://apps.apple.com/us/developer/luu-minh/i...   \n",
       "1230374  https://apps.apple.com/us/developer/th%C3%A1i-...   \n",
       "1230375  https://apps.apple.com/us/developer/pham-thanh...   \n",
       "\n",
       "                 Developer_Website  Average_User_Rating  Reviews  \\\n",
       "0                              NaN              0.00000        0   \n",
       "1                              NaN              5.00000        1   \n",
       "2                              NaN              0.00000        0   \n",
       "3                              NaN              0.00000        0   \n",
       "4          http://imonstersoft.com              0.00000        0   \n",
       "...                            ...                  ...      ...   \n",
       "1230371                        NaN              3.91608      143   \n",
       "1230372    https://securexvpn.com/              4.82733     1500   \n",
       "1230373  http://bee-labs.github.io              4.00000        1   \n",
       "1230374       https://aisoftech.vn              0.00000        0   \n",
       "1230375                        NaN              0.00000        0   \n",
       "\n",
       "         Current_Version_Score  Current_Version_Reviews  \n",
       "0                      0.00000                        0  \n",
       "1                      5.00000                        1  \n",
       "2                      0.00000                        0  \n",
       "3                      0.00000                        0  \n",
       "4                      0.00000                        0  \n",
       "...                        ...                      ...  \n",
       "1230371                3.91608                      143  \n",
       "1230372                4.82733                     1500  \n",
       "1230373                4.00000                        1  \n",
       "1230374                0.00000                        0  \n",
       "1230375                0.00000                        0  \n",
       "\n",
       "[1230376 rows x 21 columns]"
      ]
     },
     "execution_count": 2,
     "metadata": {},
     "output_type": "execute_result"
    }
   ],
   "source": [
    "df = pd.read_csv(\"appleAppData.csv\")\n",
    "df"
   ]
  },
  {
   "cell_type": "code",
   "execution_count": 3,
   "metadata": {},
   "outputs": [
    {
     "name": "stdout",
     "output_type": "stream",
     "text": [
      "<class 'pandas.core.frame.DataFrame'>\n",
      "RangeIndex: 1230376 entries, 0 to 1230375\n",
      "Data columns (total 21 columns):\n",
      " #   Column                   Non-Null Count    Dtype  \n",
      "---  ------                   --------------    -----  \n",
      " 0   App_Id                   1230376 non-null  object \n",
      " 1   App_Name                 1230375 non-null  object \n",
      " 2   AppStore_Url             1230376 non-null  object \n",
      " 3   Primary_Genre            1230376 non-null  object \n",
      " 4   Content_Rating           1230376 non-null  object \n",
      " 5   Size_Bytes               1230152 non-null  float64\n",
      " 6   Required_IOS_Version     1230376 non-null  object \n",
      " 7   Released                 1230373 non-null  object \n",
      " 8   Updated                  1230376 non-null  object \n",
      " 9   Version                  1230376 non-null  object \n",
      " 10  Price                    1229886 non-null  float64\n",
      " 11  Currency                 1230376 non-null  object \n",
      " 12  Free                     1230376 non-null  bool   \n",
      " 13  DeveloperId              1230376 non-null  int64  \n",
      " 14  Developer                1230376 non-null  object \n",
      " 15  Developer_Url            1229267 non-null  object \n",
      " 16  Developer_Website        586388 non-null   object \n",
      " 17  Average_User_Rating      1230376 non-null  float64\n",
      " 18  Reviews                  1230376 non-null  int64  \n",
      " 19  Current_Version_Score    1230376 non-null  float64\n",
      " 20  Current_Version_Reviews  1230376 non-null  int64  \n",
      "dtypes: bool(1), float64(4), int64(3), object(13)\n",
      "memory usage: 1.2 GB\n"
     ]
    }
   ],
   "source": [
    "df.info(memory_usage=\"deep\")"
   ]
  },
  {
   "cell_type": "code",
   "execution_count": 4,
   "metadata": {},
   "outputs": [],
   "source": [
    "columns_to_drop = [\n",
    "                    \"App_Id\",\n",
    "                    \"AppStore_Url\",\n",
    "                    \"DeveloperId\",\n",
    "                    \"Developer_Url\",\n",
    "                    \"Developer_Website\",\n",
    "                    \"Required_IOS_Version\",\n",
    "                    \"Current_Version_Score\",\n",
    "                    \"Current_Version_Reviews\",\n",
    "                    \"Size_Bytes\"\n",
    "\t\t        ]\n",
    "\n",
    "df = df.drop(columns = columns_to_drop)"
   ]
  },
  {
   "cell_type": "code",
   "execution_count": 5,
   "metadata": {},
   "outputs": [
    {
     "name": "stdout",
     "output_type": "stream",
     "text": [
      "<class 'pandas.core.frame.DataFrame'>\n",
      "RangeIndex: 1230376 entries, 0 to 1230375\n",
      "Data columns (total 12 columns):\n",
      " #   Column               Non-Null Count    Dtype  \n",
      "---  ------               --------------    -----  \n",
      " 0   App_Name             1230375 non-null  object \n",
      " 1   Primary_Genre        1230376 non-null  object \n",
      " 2   Content_Rating       1230376 non-null  object \n",
      " 3   Released             1230373 non-null  object \n",
      " 4   Updated              1230376 non-null  object \n",
      " 5   Version              1230376 non-null  object \n",
      " 6   Price                1229886 non-null  float64\n",
      " 7   Currency             1230376 non-null  object \n",
      " 8   Free                 1230376 non-null  bool   \n",
      " 9   Developer            1230376 non-null  object \n",
      " 10  Average_User_Rating  1230376 non-null  float64\n",
      " 11  Reviews              1230376 non-null  int64  \n",
      "dtypes: bool(1), float64(2), int64(1), object(8)\n",
      "memory usage: 678.2 MB\n"
     ]
    }
   ],
   "source": [
    "df.info(memory_usage = \"deep\")"
   ]
  },
  {
   "cell_type": "code",
   "execution_count": 6,
   "metadata": {},
   "outputs": [
    {
     "data": {
      "text/html": [
       "<div>\n",
       "<style scoped>\n",
       "    .dataframe tbody tr th:only-of-type {\n",
       "        vertical-align: middle;\n",
       "    }\n",
       "\n",
       "    .dataframe tbody tr th {\n",
       "        vertical-align: top;\n",
       "    }\n",
       "\n",
       "    .dataframe thead th {\n",
       "        text-align: right;\n",
       "    }\n",
       "</style>\n",
       "<table border=\"1\" class=\"dataframe\">\n",
       "  <thead>\n",
       "    <tr style=\"text-align: right;\">\n",
       "      <th></th>\n",
       "      <th>Price</th>\n",
       "      <th>Average_User_Rating</th>\n",
       "      <th>Reviews</th>\n",
       "    </tr>\n",
       "  </thead>\n",
       "  <tbody>\n",
       "    <tr>\n",
       "      <th>count</th>\n",
       "      <td>1229886.00000</td>\n",
       "      <td>1230376.00000</td>\n",
       "      <td>1230376.00000</td>\n",
       "    </tr>\n",
       "    <tr>\n",
       "      <th>mean</th>\n",
       "      <td>0.50413</td>\n",
       "      <td>1.78839</td>\n",
       "      <td>825.94779</td>\n",
       "    </tr>\n",
       "    <tr>\n",
       "      <th>std</th>\n",
       "      <td>6.86967</td>\n",
       "      <td>2.15411</td>\n",
       "      <td>50160.51290</td>\n",
       "    </tr>\n",
       "    <tr>\n",
       "      <th>min</th>\n",
       "      <td>0.00000</td>\n",
       "      <td>0.00000</td>\n",
       "      <td>0.00000</td>\n",
       "    </tr>\n",
       "    <tr>\n",
       "      <th>25%</th>\n",
       "      <td>0.00000</td>\n",
       "      <td>0.00000</td>\n",
       "      <td>0.00000</td>\n",
       "    </tr>\n",
       "    <tr>\n",
       "      <th>50%</th>\n",
       "      <td>0.00000</td>\n",
       "      <td>0.00000</td>\n",
       "      <td>0.00000</td>\n",
       "    </tr>\n",
       "    <tr>\n",
       "      <th>75%</th>\n",
       "      <td>0.00000</td>\n",
       "      <td>4.33333</td>\n",
       "      <td>3.00000</td>\n",
       "    </tr>\n",
       "    <tr>\n",
       "      <th>max</th>\n",
       "      <td>999.99000</td>\n",
       "      <td>5.00000</td>\n",
       "      <td>22685334.00000</td>\n",
       "    </tr>\n",
       "  </tbody>\n",
       "</table>\n",
       "</div>"
      ],
      "text/plain": [
       "              Price  Average_User_Rating        Reviews\n",
       "count 1229886.00000        1230376.00000  1230376.00000\n",
       "mean        0.50413              1.78839      825.94779\n",
       "std         6.86967              2.15411    50160.51290\n",
       "min         0.00000              0.00000        0.00000\n",
       "25%         0.00000              0.00000        0.00000\n",
       "50%         0.00000              0.00000        0.00000\n",
       "75%         0.00000              4.33333        3.00000\n",
       "max       999.99000              5.00000 22685334.00000"
      ]
     },
     "execution_count": 6,
     "metadata": {},
     "output_type": "execute_result"
    }
   ],
   "source": [
    "df.describe()"
   ]
  },
  {
   "cell_type": "code",
   "execution_count": 7,
   "metadata": {},
   "outputs": [],
   "source": [
    "# Drop remaining missing data\n",
    "df = df.dropna()"
   ]
  },
  {
   "cell_type": "code",
   "execution_count": 8,
   "metadata": {},
   "outputs": [
    {
     "name": "stdout",
     "output_type": "stream",
     "text": [
      "<class 'pandas.core.frame.DataFrame'>\n",
      "Int64Index: 1229885 entries, 0 to 1230375\n",
      "Data columns (total 12 columns):\n",
      " #   Column               Non-Null Count    Dtype  \n",
      "---  ------               --------------    -----  \n",
      " 0   App_Name             1229885 non-null  object \n",
      " 1   Primary_Genre        1229885 non-null  object \n",
      " 2   Content_Rating       1229885 non-null  object \n",
      " 3   Released             1229885 non-null  object \n",
      " 4   Updated              1229885 non-null  object \n",
      " 5   Version              1229885 non-null  object \n",
      " 6   Price                1229885 non-null  float64\n",
      " 7   Currency             1229885 non-null  object \n",
      " 8   Free                 1229885 non-null  bool   \n",
      " 9   Developer            1229885 non-null  object \n",
      " 10  Average_User_Rating  1229885 non-null  float64\n",
      " 11  Reviews              1229885 non-null  int64  \n",
      "dtypes: bool(1), float64(2), int64(1), object(8)\n",
      "memory usage: 687.3 MB\n"
     ]
    }
   ],
   "source": [
    "df.info(memory_usage = \"deep\")"
   ]
  },
  {
   "cell_type": "code",
   "execution_count": 43,
   "metadata": {},
   "outputs": [],
   "source": [
    "df[[\"Released\", \"Updated\"]] = df[[\"Released\", \"Updated\"]].apply(pd.to_datetime)"
   ]
  },
  {
   "cell_type": "markdown",
   "metadata": {},
   "source": [
    "Apple store contains 0 duplicate apps."
   ]
  },
  {
   "cell_type": "code",
   "execution_count": 44,
   "metadata": {},
   "outputs": [
    {
     "data": {
      "text/html": [
       "<div>\n",
       "<style scoped>\n",
       "    .dataframe tbody tr th:only-of-type {\n",
       "        vertical-align: middle;\n",
       "    }\n",
       "\n",
       "    .dataframe tbody tr th {\n",
       "        vertical-align: top;\n",
       "    }\n",
       "\n",
       "    .dataframe thead th {\n",
       "        text-align: right;\n",
       "    }\n",
       "</style>\n",
       "<table border=\"1\" class=\"dataframe\">\n",
       "  <thead>\n",
       "    <tr style=\"text-align: right;\">\n",
       "      <th></th>\n",
       "      <th>App_Name</th>\n",
       "      <th>Primary_Genre</th>\n",
       "      <th>Content_Rating</th>\n",
       "      <th>Released</th>\n",
       "      <th>Updated</th>\n",
       "      <th>Version</th>\n",
       "      <th>Price</th>\n",
       "      <th>Currency</th>\n",
       "      <th>Free</th>\n",
       "      <th>Developer</th>\n",
       "      <th>Average_User_Rating</th>\n",
       "      <th>Reviews</th>\n",
       "    </tr>\n",
       "  </thead>\n",
       "  <tbody>\n",
       "  </tbody>\n",
       "</table>\n",
       "</div>"
      ],
      "text/plain": [
       "Empty DataFrame\n",
       "Columns: [App_Name, Primary_Genre, Content_Rating, Released, Updated, Version, Price, Currency, Free, Developer, Average_User_Rating, Reviews]\n",
       "Index: []"
      ]
     },
     "execution_count": 44,
     "metadata": {},
     "output_type": "execute_result"
    }
   ],
   "source": [
    "df[df.duplicated(subset = \"App_Name\", keep = False)]"
   ]
  },
  {
   "cell_type": "code",
   "execution_count": 11,
   "metadata": {},
   "outputs": [
    {
     "data": {
      "text/html": [
       "<div>\n",
       "<style scoped>\n",
       "    .dataframe tbody tr th:only-of-type {\n",
       "        vertical-align: middle;\n",
       "    }\n",
       "\n",
       "    .dataframe tbody tr th {\n",
       "        vertical-align: top;\n",
       "    }\n",
       "\n",
       "    .dataframe thead th {\n",
       "        text-align: right;\n",
       "    }\n",
       "</style>\n",
       "<table border=\"1\" class=\"dataframe\">\n",
       "  <thead>\n",
       "    <tr style=\"text-align: right;\">\n",
       "      <th></th>\n",
       "      <th>App_Name</th>\n",
       "      <th>Primary_Genre</th>\n",
       "      <th>Content_Rating</th>\n",
       "      <th>Released</th>\n",
       "      <th>Updated</th>\n",
       "      <th>Version</th>\n",
       "      <th>Price</th>\n",
       "      <th>Currency</th>\n",
       "      <th>Free</th>\n",
       "      <th>Developer</th>\n",
       "      <th>Average_User_Rating</th>\n",
       "      <th>Reviews</th>\n",
       "    </tr>\n",
       "  </thead>\n",
       "  <tbody>\n",
       "    <tr>\n",
       "      <th>40592</th>\n",
       "      <td>Xtend</td>\n",
       "      <td>Business</td>\n",
       "      <td>4+</td>\n",
       "      <td>2016-06-09T02:33:27Z</td>\n",
       "      <td>2019-11-06T16:16:27Z</td>\n",
       "      <td>2.4.3</td>\n",
       "      <td>0.00000</td>\n",
       "      <td>USD</td>\n",
       "      <td>True</td>\n",
       "      <td>XTEND interactive GmbH</td>\n",
       "      <td>0.00000</td>\n",
       "      <td>0</td>\n",
       "    </tr>\n",
       "    <tr>\n",
       "      <th>45803</th>\n",
       "      <td>BlockCode 少儿编程</td>\n",
       "      <td>Education</td>\n",
       "      <td>4+</td>\n",
       "      <td>2019-12-03T08:00:00Z</td>\n",
       "      <td>2020-05-03T18:34:22Z</td>\n",
       "      <td>2.2.3</td>\n",
       "      <td>0.00000</td>\n",
       "      <td>USD</td>\n",
       "      <td>True</td>\n",
       "      <td>永超 王</td>\n",
       "      <td>0.00000</td>\n",
       "      <td>0</td>\n",
       "    </tr>\n",
       "    <tr>\n",
       "      <th>52054</th>\n",
       "      <td>PageWyze</td>\n",
       "      <td>Productivity</td>\n",
       "      <td>4+</td>\n",
       "      <td>2019-05-24T00:17:19Z</td>\n",
       "      <td>2019-07-07T20:38:46Z</td>\n",
       "      <td>1.0.1</td>\n",
       "      <td>0.00000</td>\n",
       "      <td>USD</td>\n",
       "      <td>True</td>\n",
       "      <td>Nixel Inc</td>\n",
       "      <td>0.00000</td>\n",
       "      <td>0</td>\n",
       "    </tr>\n",
       "    <tr>\n",
       "      <th>52427</th>\n",
       "      <td>Parley</td>\n",
       "      <td>Developer Tools</td>\n",
       "      <td>4+</td>\n",
       "      <td>2011-06-03T02:46:01Z</td>\n",
       "      <td>2012-03-21T22:37:58Z</td>\n",
       "      <td>1.0.2</td>\n",
       "      <td>4.99000</td>\n",
       "      <td>USD</td>\n",
       "      <td>False</td>\n",
       "      <td>Buttered Cat Software</td>\n",
       "      <td>0.00000</td>\n",
       "      <td>0</td>\n",
       "    </tr>\n",
       "    <tr>\n",
       "      <th>58449</th>\n",
       "      <td>A2Z</td>\n",
       "      <td>Education</td>\n",
       "      <td>4+</td>\n",
       "      <td>2014-04-26T07:18:44Z</td>\n",
       "      <td>2017-04-06T23:04:04Z</td>\n",
       "      <td>1.1</td>\n",
       "      <td>0.00000</td>\n",
       "      <td>USD</td>\n",
       "      <td>True</td>\n",
       "      <td>Hemal Gandhi</td>\n",
       "      <td>0.00000</td>\n",
       "      <td>0</td>\n",
       "    </tr>\n",
       "    <tr>\n",
       "      <th>...</th>\n",
       "      <td>...</td>\n",
       "      <td>...</td>\n",
       "      <td>...</td>\n",
       "      <td>...</td>\n",
       "      <td>...</td>\n",
       "      <td>...</td>\n",
       "      <td>...</td>\n",
       "      <td>...</td>\n",
       "      <td>...</td>\n",
       "      <td>...</td>\n",
       "      <td>...</td>\n",
       "      <td>...</td>\n",
       "    </tr>\n",
       "    <tr>\n",
       "      <th>1230178</th>\n",
       "      <td>SwiftComp: Composite Analysis</td>\n",
       "      <td>Utilities</td>\n",
       "      <td>4+</td>\n",
       "      <td>2019-11-14T08:00:00Z</td>\n",
       "      <td>2021-04-08T17:28:43Z</td>\n",
       "      <td>2.5.0</td>\n",
       "      <td>0.00000</td>\n",
       "      <td>USD</td>\n",
       "      <td>True</td>\n",
       "      <td>Banghua Zhao</td>\n",
       "      <td>0.00000</td>\n",
       "      <td>0</td>\n",
       "    </tr>\n",
       "    <tr>\n",
       "      <th>1230210</th>\n",
       "      <td>Switch Store</td>\n",
       "      <td>Utilities</td>\n",
       "      <td>4+</td>\n",
       "      <td>2020-11-26T08:00:00Z</td>\n",
       "      <td>2020-11-26T10:36:12Z</td>\n",
       "      <td>1.0</td>\n",
       "      <td>0.00000</td>\n",
       "      <td>USD</td>\n",
       "      <td>True</td>\n",
       "      <td>HappyDev</td>\n",
       "      <td>0.00000</td>\n",
       "      <td>0</td>\n",
       "    </tr>\n",
       "    <tr>\n",
       "      <th>1230245</th>\n",
       "      <td>SXFI App</td>\n",
       "      <td>Music</td>\n",
       "      <td>4+</td>\n",
       "      <td>2019-08-19T21:10:07Z</td>\n",
       "      <td>2021-08-18T10:36:45Z</td>\n",
       "      <td>2.52</td>\n",
       "      <td>0.00000</td>\n",
       "      <td>USD</td>\n",
       "      <td>True</td>\n",
       "      <td>Creative Technology Ltd</td>\n",
       "      <td>0.00000</td>\n",
       "      <td>0</td>\n",
       "    </tr>\n",
       "    <tr>\n",
       "      <th>1230292</th>\n",
       "      <td>Syndi</td>\n",
       "      <td>Business</td>\n",
       "      <td>4+</td>\n",
       "      <td>2021-03-02T08:00:00Z</td>\n",
       "      <td>2021-05-06T15:52:56Z</td>\n",
       "      <td>1.0.1</td>\n",
       "      <td>0.00000</td>\n",
       "      <td>USD</td>\n",
       "      <td>True</td>\n",
       "      <td>TIMCI PCA</td>\n",
       "      <td>0.00000</td>\n",
       "      <td>0</td>\n",
       "    </tr>\n",
       "    <tr>\n",
       "      <th>1230293</th>\n",
       "      <td>Syndico</td>\n",
       "      <td>Utilities</td>\n",
       "      <td>4+</td>\n",
       "      <td>2019-10-02T07:00:00Z</td>\n",
       "      <td>2019-10-17T19:27:15Z</td>\n",
       "      <td>1.1</td>\n",
       "      <td>0.00000</td>\n",
       "      <td>USD</td>\n",
       "      <td>True</td>\n",
       "      <td>AREDJAL Consulting</td>\n",
       "      <td>0.00000</td>\n",
       "      <td>0</td>\n",
       "    </tr>\n",
       "  </tbody>\n",
       "</table>\n",
       "<p>6862 rows × 12 columns</p>\n",
       "</div>"
      ],
      "text/plain": [
       "                              App_Name    Primary_Genre Content_Rating  \\\n",
       "40592                            Xtend         Business             4+   \n",
       "45803                   BlockCode 少儿编程        Education             4+   \n",
       "52054                         PageWyze     Productivity             4+   \n",
       "52427                           Parley  Developer Tools             4+   \n",
       "58449                              A2Z        Education             4+   \n",
       "...                                ...              ...            ...   \n",
       "1230178  SwiftComp: Composite Analysis        Utilities             4+   \n",
       "1230210                   Switch Store        Utilities             4+   \n",
       "1230245                       SXFI App            Music             4+   \n",
       "1230292                          Syndi         Business             4+   \n",
       "1230293                        Syndico        Utilities             4+   \n",
       "\n",
       "                     Released               Updated Version   Price Currency  \\\n",
       "40592    2016-06-09T02:33:27Z  2019-11-06T16:16:27Z   2.4.3 0.00000      USD   \n",
       "45803    2019-12-03T08:00:00Z  2020-05-03T18:34:22Z   2.2.3 0.00000      USD   \n",
       "52054    2019-05-24T00:17:19Z  2019-07-07T20:38:46Z   1.0.1 0.00000      USD   \n",
       "52427    2011-06-03T02:46:01Z  2012-03-21T22:37:58Z   1.0.2 4.99000      USD   \n",
       "58449    2014-04-26T07:18:44Z  2017-04-06T23:04:04Z     1.1 0.00000      USD   \n",
       "...                       ...                   ...     ...     ...      ...   \n",
       "1230178  2019-11-14T08:00:00Z  2021-04-08T17:28:43Z   2.5.0 0.00000      USD   \n",
       "1230210  2020-11-26T08:00:00Z  2020-11-26T10:36:12Z     1.0 0.00000      USD   \n",
       "1230245  2019-08-19T21:10:07Z  2021-08-18T10:36:45Z    2.52 0.00000      USD   \n",
       "1230292  2021-03-02T08:00:00Z  2021-05-06T15:52:56Z   1.0.1 0.00000      USD   \n",
       "1230293  2019-10-02T07:00:00Z  2019-10-17T19:27:15Z     1.1 0.00000      USD   \n",
       "\n",
       "          Free                Developer  Average_User_Rating  Reviews  \n",
       "40592     True   XTEND interactive GmbH              0.00000        0  \n",
       "45803     True                     永超 王              0.00000        0  \n",
       "52054     True                Nixel Inc              0.00000        0  \n",
       "52427    False    Buttered Cat Software              0.00000        0  \n",
       "58449     True             Hemal Gandhi              0.00000        0  \n",
       "...        ...                      ...                  ...      ...  \n",
       "1230178   True             Banghua Zhao              0.00000        0  \n",
       "1230210   True                 HappyDev              0.00000        0  \n",
       "1230245   True  Creative Technology Ltd              0.00000        0  \n",
       "1230292   True                TIMCI PCA              0.00000        0  \n",
       "1230293   True       AREDJAL Consulting              0.00000        0  \n",
       "\n",
       "[6862 rows x 12 columns]"
      ]
     },
     "execution_count": 11,
     "metadata": {},
     "output_type": "execute_result"
    }
   ],
   "source": [
    "# Duplicate rows\n",
    "duplicates = df.duplicated([\"App_Name\"])\n",
    "df[duplicates]"
   ]
  },
  {
   "cell_type": "code",
   "execution_count": 12,
   "metadata": {},
   "outputs": [],
   "source": [
    "df = df.drop_duplicates(\"App_Name\")"
   ]
  },
  {
   "cell_type": "markdown",
   "metadata": {},
   "source": [
    "75% of apple's app store contain less than 3 reviews (the number of times a particular app was reviewed), and the average is 825.\n",
    "The app store doesn't contain data regarding the number of installs, which makes it more difficult to judge whether or not a particular app has been used by strictly looking at the number of reviews."
   ]
  },
  {
   "cell_type": "code",
   "execution_count": 13,
   "metadata": {},
   "outputs": [],
   "source": [
    "# Remove non-English apps\n",
    "df = df[df[\"App_Name\"].apply(lambda x: x.isascii())]"
   ]
  },
  {
   "cell_type": "code",
   "execution_count": 14,
   "metadata": {},
   "outputs": [],
   "source": [
    "# Remove non-English language developers\n",
    "df = df[df[\"Developer\"].apply(lambda x: x.isascii())]"
   ]
  },
  {
   "cell_type": "code",
   "execution_count": 15,
   "metadata": {},
   "outputs": [
    {
     "data": {
      "text/plain": [
       "<AxesSubplot:xlabel='Reviews'>"
      ]
     },
     "execution_count": 15,
     "metadata": {},
     "output_type": "execute_result"
    },
    {
     "data": {
      "image/png": "[encoded data removed]",
      "text/plain": [
       "<Figure size 864x720 with 1 Axes>"
      ]
     },
     "metadata": {
      "needs_background": "light"
     },
     "output_type": "display_data"
    }
   ],
   "source": [
    "plt.figure(figsize=(12,10))\n",
    "sns.boxplot(data = df, x = \"Reviews\")"
   ]
  },
  {
   "cell_type": "code",
   "execution_count": 16,
   "metadata": {},
   "outputs": [
    {
     "data": {
      "text/plain": [
       "45.873723807786426"
      ]
     },
     "execution_count": 16,
     "metadata": {},
     "output_type": "execute_result"
    }
   ],
   "source": [
    "len(df[df[\"Reviews\"] > 0]) / len(df[\"Reviews\"]) * 100"
   ]
  },
  {
   "cell_type": "code",
   "execution_count": 17,
   "metadata": {},
   "outputs": [],
   "source": [
    "df = df[df[\"Reviews\"] > 0]"
   ]
  },
  {
   "cell_type": "code",
   "execution_count": 18,
   "metadata": {},
   "outputs": [
    {
     "data": {
      "text/plain": [
       "True    90.88751\n",
       "False    9.11249\n",
       "Name: Free, dtype: float64"
      ]
     },
     "execution_count": 18,
     "metadata": {},
     "output_type": "execute_result"
    }
   ],
   "source": [
    "df[\"Free\"].value_counts(normalize = True) * 100"
   ]
  },
  {
   "cell_type": "code",
   "execution_count": 19,
   "metadata": {},
   "outputs": [
    {
     "data": {
      "text/plain": [
       "Primary_Genre\n",
       "Shopping                 4.43514\n",
       "Graphics & Design        4.31271\n",
       "Food & Drink             4.29291\n",
       "Developer Tools          4.28277\n",
       "Lifestyle                4.21066\n",
       "Social Networking        4.18468\n",
       "Health & Fitness         4.17804\n",
       "Magazines & Newspapers   4.14924\n",
       "Business                 4.12077\n",
       "Stickers                 4.11207\n",
       "Music                    4.10567\n",
       "Book                     4.08407\n",
       "Finance                  4.08162\n",
       "Sports                   4.07797\n",
       "News                     4.07552\n",
       "Reference                4.04433\n",
       "Medical                  4.04205\n",
       "Education                3.99279\n",
       "Games                    3.99214\n",
       "Productivity             3.95687\n",
       "Entertainment            3.91361\n",
       "Travel                   3.89669\n",
       "Weather                  3.88461\n",
       "Utilities                3.75336\n",
       "Photo & Video            3.69250\n",
       "Navigation               3.60067\n",
       "Name: Average_User_Rating, dtype: float64"
      ]
     },
     "execution_count": 19,
     "metadata": {},
     "output_type": "execute_result"
    }
   ],
   "source": [
    "# Average user rating by category\n",
    "df.groupby(\"Primary_Genre\")[\"Average_User_Rating\"].mean().sort_values(ascending = False)"
   ]
  },
  {
   "cell_type": "code",
   "execution_count": 36,
   "metadata": {},
   "outputs": [
    {
     "data": {
      "text/plain": [
       "<AxesSubplot:>"
      ]
     },
     "execution_count": 36,
     "metadata": {},
     "output_type": "execute_result"
    },
    {
     "data": {
      "image/png": "[encoded data removed]",
      "text/plain": [
       "<Figure size 864x1080 with 1 Axes>"
      ]
     },
     "metadata": {
      "needs_background": "light"
     },
     "output_type": "display_data"
    }
   ],
   "source": [
    "# App category frequency\n",
    "plt.figure(figsize= (12, 15))\n",
    "(df[\"Primary_Genre\"].value_counts(normalize = True) * 100).sort_values(ascending = True).plot.barh()\n"
   ]
  },
  {
   "cell_type": "code",
   "execution_count": 42,
   "metadata": {},
   "outputs": [
    {
     "data": {
      "text/plain": [
       "<AxesSubplot:ylabel='Primary_Genre'>"
      ]
     },
     "execution_count": 42,
     "metadata": {},
     "output_type": "execute_result"
    },
    {
     "data": {
      "image/png": "[encoded data removed]",
      "text/plain": [
       "<Figure size 864x1080 with 1 Axes>"
      ]
     },
     "metadata": {
      "needs_background": "light"
     },
     "output_type": "display_data"
    }
   ],
   "source": [
    "# Average number of reviews per genre\n",
    "plt.figure(figsize= (12, 15))\n",
    "df.groupby(\"Primary_Genre\")[\"Reviews\"].mean().sort_values(ascending = True).plot.barh()"
   ]
  },
  {
   "cell_type": "code",
   "execution_count": 21,
   "metadata": {},
   "outputs": [
    {
     "data": {
      "text/plain": [
       "Index(['App_Name', 'Primary_Genre', 'Content_Rating', 'Released', 'Updated',\n",
       "       'Version', 'Price', 'Currency', 'Free', 'Developer',\n",
       "       'Average_User_Rating', 'Reviews'],\n",
       "      dtype='object')"
      ]
     },
     "execution_count": 21,
     "metadata": {},
     "output_type": "execute_result"
    }
   ],
   "source": [
    "df.columns"
   ]
  },
  {
   "cell_type": "code",
   "execution_count": 22,
   "metadata": {},
   "outputs": [
    {
     "data": {
      "text/plain": [
       "(510475, 12)"
      ]
     },
     "execution_count": 22,
     "metadata": {},
     "output_type": "execute_result"
    }
   ],
   "source": [
    "df.shape"
   ]
  },
  {
   "cell_type": "code",
   "execution_count": 23,
   "metadata": {},
   "outputs": [
    {
     "data": {
      "text/plain": [
       "Primary_Genre\n",
       "Music                    1.51898\n",
       "Reference                1.17421\n",
       "Medical                  1.11592\n",
       "Developer Tools          1.09381\n",
       "Navigation               1.02864\n",
       "Education                0.91729\n",
       "Productivity             0.78068\n",
       "Book                     0.68813\n",
       "Stickers                 0.62909\n",
       "Weather                  0.62641\n",
       "Photo & Video            0.61957\n",
       "Sports                   0.59576\n",
       "Graphics & Design        0.53992\n",
       "Utilities                0.53006\n",
       "Health & Fitness         0.30425\n",
       "Travel                   0.28326\n",
       "Entertainment            0.27576\n",
       "Business                 0.26703\n",
       "Games                    0.21901\n",
       "Lifestyle                0.21231\n",
       "Finance                  0.15173\n",
       "Social Networking        0.09376\n",
       "News                     0.09282\n",
       "Food & Drink             0.07696\n",
       "Shopping                 0.03406\n",
       "Magazines & Newspapers   0.00643\n",
       "Name: Price, dtype: float64"
      ]
     },
     "execution_count": 23,
     "metadata": {},
     "output_type": "execute_result"
    }
   ],
   "source": [
    "# Average price of each genre\n",
    "df.groupby(\"Primary_Genre\")[\"Price\"].mean().sort_values(ascending = False)"
   ]
  },
  {
   "cell_type": "code",
   "execution_count": 31,
   "metadata": {},
   "outputs": [
    {
     "data": {
      "text/plain": [
       "<AxesSubplot:>"
      ]
     },
     "execution_count": 31,
     "metadata": {},
     "output_type": "execute_result"
    },
    {
     "data": {
      "image/png": "[encoded data removed]",
      "text/plain": [
       "<Figure size 432x288 with 1 Axes>"
      ]
     },
     "metadata": {
      "needs_background": "light"
     },
     "output_type": "display_data"
    }
   ],
   "source": [
    "(df[\"Content_Rating\"].value_counts(normalize = True).iloc[[0, 3, 2, 1, 4]] * 100).plot.bar()"
   ]
  },
  {
   "cell_type": "code",
   "execution_count": 46,
   "metadata": {},
   "outputs": [
    {
     "data": {
      "text/plain": [
       "datetime64[ns, UTC]"
      ]
     },
     "execution_count": 46,
     "metadata": {},
     "output_type": "execute_result"
    }
   ],
   "source": [
    "df[\"Released\"].dtype"
   ]
  },
  {
   "cell_type": "code",
   "execution_count": null,
   "metadata": {},
   "outputs": [],
   "source": [
    "#df.to_csv(\"apple_apps_cleaned.csv\", index = False)"
   ]
  }
 ],
 "metadata": {
  "interpreter": {
   "hash": "a9b0ea31ab6ef0dce5709463966c442379449d15cc2d249dd54205a6939b4ded"
  },
  "kernelspec": {
   "display_name": "Python 3.9.7 ('base')",
   "language": "python",
   "name": "python3"
  },
  "language_info": {
   "codemirror_mode": {
    "name": "ipython",
    "version": 3
   },
   "file_extension": ".py",
   "mimetype": "text/x-python",
   "name": "python",
   "nbconvert_exporter": "python",
   "pygments_lexer": "ipython3",
   "version": "3.9.7"
  },
  "orig_nbformat": 4
 },
 "nbformat": 4,
 "nbformat_minor": 2
}
